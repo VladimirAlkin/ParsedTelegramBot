{
  "nbformat": 4,
  "nbformat_minor": 0,
  "metadata": {
    "colab": {
      "name": "TweetsAnalysis.ipynb",
      "provenance": [],
      "collapsed_sections": [],
      "authorship_tag": "ABX9TyNRAG5B0xeJ8SJyort8+llU",
      "include_colab_link": true
    },
    "kernelspec": {
      "name": "python3",
      "display_name": "Python 3"
    },
    "language_info": {
      "name": "python"
    }
  },
  "cells": [
    {
      "cell_type": "markdown",
      "metadata": {
        "id": "view-in-github",
        "colab_type": "text"
      },
      "source": [
        "<a href=\"https://colab.research.google.com/github/VladimirAlkin/ParsedTelegramBot/blob/master/TweetsAnalysis.ipynb\" target=\"_parent\"><img src=\"https://colab.research.google.com/assets/colab-badge.svg\" alt=\"Open In Colab\"/></a>"
      ]
    },
    {
      "cell_type": "code",
      "metadata": {
        "id": "gszkDYseM-kA"
      },
      "source": [
        "# Programm that parsed to Twitter and analyse tweets\n",
        "\n",
        "\n",
        "# API key - hJH6wvivGFVnbF6jls9pRTPQb\n",
        "# API key secret - da3rrZQPZ2HEIyusBSOHZ00P75IpBRgJVO4tMbhabm51agZ2bX\n",
        "# Bearer token - AAAAAAAAAAAAAAAAAAAAAOXwNwEAAAAAsZQ6zg%2FyP%2FwmDpDLnI21ZchgoNk%3DWd7TqinZkwrxbHcluo6CoygLokDP7NP7RlzDLpjSlsfTOPxnKx\n",
        "# Access token - 1147592296600416256-Dz5vTP90ur97W8ff3Bh5mIM1s7ksmi\n",
        "# Secret Access Token - hxoub9sNnchgj5FCczTHlmFlNKw5eVkU5UXOvmzCdmfQ6\n",
        "\n",
        "\n",
        "import tweepy\n",
        "from textblob import TextBlob\n",
        "from wordcloud import WordCloud\n",
        "import pandas as pd\n",
        "import numpy as np\n",
        "import re\n",
        "import matplotlib.pyplot as plt\n",
        "import tokens\n",
        "from txtedit import cleanTxt\n",
        "plt.style.use('fivethirtyeight')\n",
        "\n",
        "consumerKey = tokens.API_key\n",
        "consumerSecret = tokens.API_key_secret\n",
        "accessToken = tokens.access_token\n",
        "accessTokenSecret = tokens.secret_access_token"
      ],
      "execution_count": 29,
      "outputs": []
    },
    {
      "cell_type": "code",
      "metadata": {
        "id": "KhlFNZX7NhDZ"
      },
      "source": [
        "# Create the authentication object\n",
        "authenticate = tweepy.OAuthHandler(consumerKey, consumerSecret)\n",
        "\n",
        "# Set the access token and access token secret\n",
        "authenticate.set_access_token(accessToken, accessTokenSecret)\n",
        "\n",
        "# Creating the API object while passing in auth information\n",
        "api = tweepy.API(authenticate, wait_on_rate_limit=True)"
      ],
      "execution_count": 30,
      "outputs": []
    },
    {
      "cell_type": "code",
      "metadata": {
        "colab": {
          "base_uri": "https://localhost:8080/"
        },
        "id": "EVkE5zhFNxDA",
        "outputId": "ee3fe712-fd73-4453-9384-07bfafce6048"
      },
      "source": [
        "# Extract 100 tweets from the twitter user\n",
        "posts = api.user_timeline(screen_name=\"BillGates\", count = 100, lang =\"en\", tweet_mode=\"extended\")\n",
        "\n",
        "#  Print the last 5 tweets\n",
        "print(\"Show the 5 recent tweets:\\n\")\n",
        "i=1\n",
        "for tweet in posts[:5]:\n",
        "    print(str(i) +') '+ tweet.full_text + '\\n')\n",
        "    i= i+1"
      ],
      "execution_count": 31,
      "outputs": [
        {
          "output_type": "stream",
          "text": [
            "Show the 5 recent tweets:\n",
            "\n",
            "1) The best way to prevent new variants from emerging is by stopping transmission of the virus altogether: https://t.co/KhJoM3LBmr https://t.co/5Vhfsjew3D\n",
            "\n",
            "2) It's encouraging to see innovation and clean energy investments at the forefront of @POTUS's #AmericanJobsPlan. Building markets for new energy technologies is good for jobs today and will build the economies we need while avoiding a climate disaster. https://t.co/V6GcPSiaH8\n",
            "\n",
            "3) Here are five things you should know if you want to understand how variants are (and aren’t) complicating the pandemic. https://t.co/rANiDcZynJ\n",
            "\n",
            "4) RT @IFPRI: 💡 From #climateadaptation to #genderequality, discover @CGIAR’s 50 years of innovations that changed the world 🌎 🎉: https://t.co…\n",
            "\n",
            "5) The technological transformation we need to address climate change can create good, safe jobs and build a more equitable, prosperous economy. To make that happen, we need to think big: https://t.co/jFWTPyaOAq https://t.co/PR5sxI7aDt\n",
            "\n"
          ],
          "name": "stdout"
        }
      ]
    },
    {
      "cell_type": "code",
      "metadata": {
        "colab": {
          "base_uri": "https://localhost:8080/",
          "height": 419
        },
        "id": "QqMXYIKkwbjb",
        "outputId": "85766685-a941-4317-dcbb-d47bb35ac9b9"
      },
      "source": [
        "def cleanTxt(text):\n",
        "    text = re.sub('@[A-Za-z0–9]+', '', text)  # Removing @mentions\n",
        "    text = re.sub('#', '', text)  # Removing '#' hash tag\n",
        "    text = re.sub('RT[\\s]+', '', text)  # Removing RT\n",
        "    text = re.sub('https?:\\/\\/\\S+', '', text)  # Removing hyperlink\n",
        "\n",
        "    return text\n",
        "# Clean the tweets\n",
        "df['Tweets'] = df['Tweets'].apply(cleanTxt)\n",
        "\n",
        "# Show the cleaned tweets\n",
        "df"
      ],
      "execution_count": 34,
      "outputs": [
        {
          "output_type": "execute_result",
          "data": {
            "text/html": [
              "<div>\n",
              "<style scoped>\n",
              "    .dataframe tbody tr th:only-of-type {\n",
              "        vertical-align: middle;\n",
              "    }\n",
              "\n",
              "    .dataframe tbody tr th {\n",
              "        vertical-align: top;\n",
              "    }\n",
              "\n",
              "    .dataframe thead th {\n",
              "        text-align: right;\n",
              "    }\n",
              "</style>\n",
              "<table border=\"1\" class=\"dataframe\">\n",
              "  <thead>\n",
              "    <tr style=\"text-align: right;\">\n",
              "      <th></th>\n",
              "      <th>Tweets</th>\n",
              "    </tr>\n",
              "  </thead>\n",
              "  <tbody>\n",
              "    <tr>\n",
              "      <th>0</th>\n",
              "      <td>The best way to prevent new variants from emer...</td>\n",
              "    </tr>\n",
              "    <tr>\n",
              "      <th>1</th>\n",
              "      <td>It's encouraging to see innovation and clean e...</td>\n",
              "    </tr>\n",
              "    <tr>\n",
              "      <th>2</th>\n",
              "      <td>Here are five things you should know if you wa...</td>\n",
              "    </tr>\n",
              "    <tr>\n",
              "      <th>3</th>\n",
              "      <td>: 💡 From climateadaptation to genderequality, ...</td>\n",
              "    </tr>\n",
              "    <tr>\n",
              "      <th>4</th>\n",
              "      <td>The technological transformation we need to ad...</td>\n",
              "    </tr>\n",
              "    <tr>\n",
              "      <th>...</th>\n",
              "      <td>...</td>\n",
              "    </tr>\n",
              "    <tr>\n",
              "      <th>95</th>\n",
              "      <td>To reduce duplication, focus the government’s ...</td>\n",
              "    </tr>\n",
              "    <tr>\n",
              "      <th>96</th>\n",
              "      <td>We need to revolutionize the world’s physical ...</td>\n",
              "    </tr>\n",
              "    <tr>\n",
              "      <th>97</th>\n",
              "      <td>This the most important thing the U.S. can do ...</td>\n",
              "    </tr>\n",
              "    <tr>\n",
              "      <th>98</th>\n",
              "      <td>I’m inspired by Quarraisha Abdool Karim and . ...</td>\n",
              "    </tr>\n",
              "    <tr>\n",
              "      <th>99</th>\n",
              "      <td>: My parents taught me to leave the world bett...</td>\n",
              "    </tr>\n",
              "  </tbody>\n",
              "</table>\n",
              "<p>100 rows × 1 columns</p>\n",
              "</div>"
            ],
            "text/plain": [
              "                                               Tweets\n",
              "0   The best way to prevent new variants from emer...\n",
              "1   It's encouraging to see innovation and clean e...\n",
              "2   Here are five things you should know if you wa...\n",
              "3   : 💡 From climateadaptation to genderequality, ...\n",
              "4   The technological transformation we need to ad...\n",
              "..                                                ...\n",
              "95  To reduce duplication, focus the government’s ...\n",
              "96  We need to revolutionize the world’s physical ...\n",
              "97  This the most important thing the U.S. can do ...\n",
              "98  I’m inspired by Quarraisha Abdool Karim and . ...\n",
              "99  : My parents taught me to leave the world bett...\n",
              "\n",
              "[100 rows x 1 columns]"
            ]
          },
          "metadata": {
            "tags": []
          },
          "execution_count": 34
        }
      ]
    },
    {
      "cell_type": "code",
      "metadata": {
        "colab": {
          "base_uri": "https://localhost:8080/",
          "height": 419
        },
        "id": "XsbG97uGxGvv",
        "outputId": "96e9b976-1935-4c2d-e130-f466488e21c7"
      },
      "source": [
        "# Create a function to get the subjectivity\n",
        "def getSubjectivity(text):\n",
        "   return TextBlob(text).sentiment.subjectivity\n",
        "\n",
        "# Create a function to get the polarity\n",
        "def getPolarity(text):\n",
        "   return  TextBlob(text).sentiment.polarity\n",
        "\n",
        "\n",
        "# Create two new columns 'Subjectivity' & 'Polarity'\n",
        "df['Subjectivity'] = df['Tweets'].apply(getSubjectivity)\n",
        "df['Polarity'] = df['Tweets'].apply(getPolarity)\n",
        "\n",
        "# Show the new dataframe with columns 'Subjectivity' & 'Polarity'\n",
        "df"
      ],
      "execution_count": 35,
      "outputs": [
        {
          "output_type": "execute_result",
          "data": {
            "text/html": [
              "<div>\n",
              "<style scoped>\n",
              "    .dataframe tbody tr th:only-of-type {\n",
              "        vertical-align: middle;\n",
              "    }\n",
              "\n",
              "    .dataframe tbody tr th {\n",
              "        vertical-align: top;\n",
              "    }\n",
              "\n",
              "    .dataframe thead th {\n",
              "        text-align: right;\n",
              "    }\n",
              "</style>\n",
              "<table border=\"1\" class=\"dataframe\">\n",
              "  <thead>\n",
              "    <tr style=\"text-align: right;\">\n",
              "      <th></th>\n",
              "      <th>Tweets</th>\n",
              "      <th>Subjectivity</th>\n",
              "      <th>Polarity</th>\n",
              "    </tr>\n",
              "  </thead>\n",
              "  <tbody>\n",
              "    <tr>\n",
              "      <th>0</th>\n",
              "      <td>The best way to prevent new variants from emer...</td>\n",
              "      <td>0.377273</td>\n",
              "      <td>0.568182</td>\n",
              "    </tr>\n",
              "    <tr>\n",
              "      <th>1</th>\n",
              "      <td>It's encouraging to see innovation and clean e...</td>\n",
              "      <td>0.584848</td>\n",
              "      <td>0.401010</td>\n",
              "    </tr>\n",
              "    <tr>\n",
              "      <th>2</th>\n",
              "      <td>Here are five things you should know if you wa...</td>\n",
              "      <td>0.000000</td>\n",
              "      <td>0.000000</td>\n",
              "    </tr>\n",
              "    <tr>\n",
              "      <th>3</th>\n",
              "      <td>: 💡 From climateadaptation to genderequality, ...</td>\n",
              "      <td>0.000000</td>\n",
              "      <td>0.000000</td>\n",
              "    </tr>\n",
              "    <tr>\n",
              "      <th>4</th>\n",
              "      <td>The technological transformation we need to ad...</td>\n",
              "      <td>0.425000</td>\n",
              "      <td>0.425000</td>\n",
              "    </tr>\n",
              "    <tr>\n",
              "      <th>...</th>\n",
              "      <td>...</td>\n",
              "      <td>...</td>\n",
              "      <td>...</td>\n",
              "    </tr>\n",
              "    <tr>\n",
              "      <th>95</th>\n",
              "      <td>To reduce duplication, focus the government’s ...</td>\n",
              "      <td>0.477273</td>\n",
              "      <td>0.318182</td>\n",
              "    </tr>\n",
              "    <tr>\n",
              "      <th>96</th>\n",
              "      <td>We need to revolutionize the world’s physical ...</td>\n",
              "      <td>0.372619</td>\n",
              "      <td>-0.186111</td>\n",
              "    </tr>\n",
              "    <tr>\n",
              "      <th>97</th>\n",
              "      <td>This the most important thing the U.S. can do ...</td>\n",
              "      <td>0.750000</td>\n",
              "      <td>0.450000</td>\n",
              "    </tr>\n",
              "    <tr>\n",
              "      <th>98</th>\n",
              "      <td>I’m inspired by Quarraisha Abdool Karim and . ...</td>\n",
              "      <td>0.500000</td>\n",
              "      <td>0.500000</td>\n",
              "    </tr>\n",
              "    <tr>\n",
              "      <th>99</th>\n",
              "      <td>: My parents taught me to leave the world bett...</td>\n",
              "      <td>0.500000</td>\n",
              "      <td>0.500000</td>\n",
              "    </tr>\n",
              "  </tbody>\n",
              "</table>\n",
              "<p>100 rows × 3 columns</p>\n",
              "</div>"
            ],
            "text/plain": [
              "                                               Tweets  Subjectivity  Polarity\n",
              "0   The best way to prevent new variants from emer...      0.377273  0.568182\n",
              "1   It's encouraging to see innovation and clean e...      0.584848  0.401010\n",
              "2   Here are five things you should know if you wa...      0.000000  0.000000\n",
              "3   : 💡 From climateadaptation to genderequality, ...      0.000000  0.000000\n",
              "4   The technological transformation we need to ad...      0.425000  0.425000\n",
              "..                                                ...           ...       ...\n",
              "95  To reduce duplication, focus the government’s ...      0.477273  0.318182\n",
              "96  We need to revolutionize the world’s physical ...      0.372619 -0.186111\n",
              "97  This the most important thing the U.S. can do ...      0.750000  0.450000\n",
              "98  I’m inspired by Quarraisha Abdool Karim and . ...      0.500000  0.500000\n",
              "99  : My parents taught me to leave the world bett...      0.500000  0.500000\n",
              "\n",
              "[100 rows x 3 columns]"
            ]
          },
          "metadata": {
            "tags": []
          },
          "execution_count": 35
        }
      ]
    }
  ]
}